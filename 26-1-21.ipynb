{
 "cells": [
  {
   "cell_type": "code",
   "execution_count": 2,
   "id": "endless-rolling",
   "metadata": {},
   "outputs": [
    {
     "name": "stdout",
     "output_type": "stream",
     "text": [
      "enter number:6\n",
      "perfect number\n"
     ]
    }
   ],
   "source": [
    "n=int(input('enter number:'))\n",
    "s = 0\n",
    "for i in range(1,n):\n",
    "    if n%i == 0:\n",
    "        s+=i\n",
    "if s == n:\n",
    "    print('perfect number')\n",
    "else:\n",
    "    print(\"not perfect number\")"
   ]
  },
  {
   "cell_type": "code",
   "execution_count": 3,
   "id": "recorded-fever",
   "metadata": {},
   "outputs": [
    {
     "name": "stdout",
     "output_type": "stream",
     "text": [
      "enter table upto:9\n",
      "enter table length9\n",
      "1 * 1 =1\n",
      "1 * 2 =2\n",
      "1 * 3 =3\n",
      "1 * 4 =4\n",
      "1 * 5 =5\n",
      "1 * 6 =6\n",
      "1 * 7 =7\n",
      "1 * 8 =8\n",
      "1 * 9 =9\n",
      "2 * 1 =2\n",
      "2 * 2 =4\n",
      "2 * 3 =6\n",
      "2 * 4 =8\n",
      "2 * 5 =10\n",
      "2 * 6 =12\n",
      "2 * 7 =14\n",
      "2 * 8 =16\n",
      "2 * 9 =18\n",
      "3 * 1 =3\n",
      "3 * 2 =6\n",
      "3 * 3 =9\n",
      "3 * 4 =12\n",
      "3 * 5 =15\n",
      "3 * 6 =18\n",
      "3 * 7 =21\n",
      "3 * 8 =24\n",
      "3 * 9 =27\n",
      "4 * 1 =4\n",
      "4 * 2 =8\n",
      "4 * 3 =12\n",
      "4 * 4 =16\n",
      "4 * 5 =20\n",
      "4 * 6 =24\n",
      "4 * 7 =28\n",
      "4 * 8 =32\n",
      "4 * 9 =36\n",
      "5 * 1 =5\n",
      "5 * 2 =10\n",
      "5 * 3 =15\n",
      "5 * 4 =20\n",
      "5 * 5 =25\n",
      "5 * 6 =30\n",
      "5 * 7 =35\n",
      "5 * 8 =40\n",
      "5 * 9 =45\n",
      "6 * 1 =6\n",
      "6 * 2 =12\n",
      "6 * 3 =18\n",
      "6 * 4 =24\n",
      "6 * 5 =30\n",
      "6 * 6 =36\n",
      "6 * 7 =42\n",
      "6 * 8 =48\n",
      "6 * 9 =54\n",
      "7 * 1 =7\n",
      "7 * 2 =14\n",
      "7 * 3 =21\n",
      "7 * 4 =28\n",
      "7 * 5 =35\n",
      "7 * 6 =42\n",
      "7 * 7 =49\n",
      "7 * 8 =56\n",
      "7 * 9 =63\n",
      "8 * 1 =8\n",
      "8 * 2 =16\n",
      "8 * 3 =24\n",
      "8 * 4 =32\n",
      "8 * 5 =40\n",
      "8 * 6 =48\n",
      "8 * 7 =56\n",
      "8 * 8 =64\n",
      "8 * 9 =72\n",
      "9 * 1 =9\n",
      "9 * 2 =18\n",
      "9 * 3 =27\n",
      "9 * 4 =36\n",
      "9 * 5 =45\n",
      "9 * 6 =54\n",
      "9 * 7 =63\n",
      "9 * 8 =72\n",
      "9 * 9 =81\n"
     ]
    }
   ],
   "source": [
    "t = int(input(\"enter table upto:\"))\n",
    "t_len = int(input('enter table length'))\n",
    "for i in range(1,t+1):\n",
    "    for j in range(1,t_len+1):\n",
    "        print(\"{} * {} ={}\".format(i,j,i*j))\n",
    "        "
   ]
  },
  {
   "cell_type": "code",
   "execution_count": 10,
   "id": "heard-kazakhstan",
   "metadata": {},
   "outputs": [
    {
     "name": "stdout",
     "output_type": "stream",
     "text": [
      "10 8 6 4 2 "
     ]
    }
   ],
   "source": [
    "for i in range(10,1,-2):\n",
    "    print(i,end = \" \")"
   ]
  },
  {
   "cell_type": "code",
   "execution_count": 5,
   "id": "determined-burst",
   "metadata": {},
   "outputs": [
    {
     "name": "stdout",
     "output_type": "stream",
     "text": [
      "10 9 8 7 6 5 4 3 2 1 "
     ]
    }
   ],
   "source": [
    "i =10\n",
    "while i>0:\n",
    "    print(i,end=\" \")\n",
    "    i-=1"
   ]
  },
  {
   "cell_type": "markdown",
   "id": "interior-eight",
   "metadata": {},
   "source": [
    "for i in range(1,10):\n",
    "    if i==5:\n",
    "        continue \n",
    "    print(i,end = \" \")"
   ]
  },
  {
   "cell_type": "code",
   "execution_count": 11,
   "id": "destroyed-effects",
   "metadata": {},
   "outputs": [
    {
     "data": {
      "text/plain": [
       "1"
      ]
     },
     "execution_count": 11,
     "metadata": {},
     "output_type": "execute_result"
    }
   ],
   "source": [
    "min([1,2,3])"
   ]
  },
  {
   "cell_type": "code",
   "execution_count": 9,
   "id": "protective-frontier",
   "metadata": {},
   "outputs": [
    {
     "name": "stdout",
     "output_type": "stream",
     "text": [
      "9\n"
     ]
    }
   ],
   "source": [
    "#function creation:\n",
    "def add(a,b):\n",
    "    print(a+b)\n",
    "add(4,5)   \n"
   ]
  },
  {
   "cell_type": "code",
   "execution_count": 10,
   "id": "addressed-patio",
   "metadata": {},
   "outputs": [
    {
     "name": "stdout",
     "output_type": "stream",
     "text": [
      "2\n"
     ]
    }
   ],
   "source": [
    "def revatie(a,b):\n",
    "    print(a-b)\n",
    "revatie(4,2)"
   ]
  },
  {
   "cell_type": "code",
   "execution_count": 14,
   "id": "incident-truth",
   "metadata": {},
   "outputs": [],
   "source": [
    "# types of user define function:\n",
    "#based on return value\n",
    "#1. without arg and without return value\n",
    "#2. without arg and with return value\n",
    "#3. with arg and without return value\n",
    "#4.with arg and with return value"
   ]
  },
  {
   "cell_type": "code",
   "execution_count": 20,
   "id": "alone-cooking",
   "metadata": {},
   "outputs": [
    {
     "name": "stdout",
     "output_type": "stream",
     "text": [
      "enter n value10\n",
      "number is factor of 10\n",
      "enter n value1\n",
      "number is factor of 10\n",
      "None\n"
     ]
    }
   ],
   "source": [
    "def f1():\n",
    "    n=int(input(\"enter n value\"))\n",
    "    if 10%n == 0:\n",
    "        print('number is factor of 10')\n",
    "    else:\n",
    "        print(\"number is not a factor of 10\")\n",
    "f1()\n",
    "n=f1()\n",
    "print(n)"
   ]
  },
  {
   "cell_type": "code",
   "execution_count": 21,
   "id": "outdoor-banner",
   "metadata": {},
   "outputs": [
    {
     "name": "stdout",
     "output_type": "stream",
     "text": [
      "enter n1 value2\n",
      "enter n2 value3\n",
      "10\n"
     ]
    }
   ],
   "source": [
    "def f2():\n",
    "    n1 = int(input(\"enter n1 value\"))\n",
    "    n2 = int (input(\"enter n2 value\"))\n",
    "    return n1,n2,n1+n2\n",
    "a,b,c = f2()\n",
    "print(a+b+c)"
   ]
  },
  {
   "cell_type": "code",
   "execution_count": 24,
   "id": "resident-completion",
   "metadata": {},
   "outputs": [
    {
     "name": "stdout",
     "output_type": "stream",
     "text": [
      "enter n1 value2\n",
      "enter n2 value1\n",
      "additon is: 3\n",
      "subtraction is: 1\n",
      "multiplition is: 2\n",
      "division is: 2.0\n"
     ]
    }
   ],
   "source": [
    "#with arg and without return\n",
    "n1 = int(input(\"enter n1 value\"))\n",
    "n2 = int (input(\"enter n2 value\"))\n",
    "def f2(n1,n2):\n",
    "    print(\"additon is:\",n1+n2)\n",
    "    print(\"subtraction is:\",n1-n2)\n",
    "    print(\"multiplition is:\",n1*n2)\n",
    "    print(\"division is:\",n1/n2)\n",
    "f2(n1,n2)"
   ]
  },
  {
   "cell_type": "code",
   "execution_count": null,
   "id": "governing-roots",
   "metadata": {},
   "outputs": [],
   "source": []
  }
 ],
 "metadata": {
  "kernelspec": {
   "display_name": "Python 3",
   "language": "python",
   "name": "python3"
  },
  "language_info": {
   "codemirror_mode": {
    "name": "ipython",
    "version": 3
   },
   "file_extension": ".py",
   "mimetype": "text/x-python",
   "name": "python",
   "nbconvert_exporter": "python",
   "pygments_lexer": "ipython3",
   "version": "3.8.1"
  }
 },
 "nbformat": 4,
 "nbformat_minor": 5
}
